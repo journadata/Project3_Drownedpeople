{
 "cells": [
  {
   "cell_type": "code",
   "execution_count": 1,
   "id": "c01d0018-4784-4832-a8c8-f9c4c3abe87a",
   "metadata": {
    "scrolled": true
   },
   "outputs": [
    {
     "name": "stdout",
     "output_type": "stream",
     "text": [
      "         date                                             platja  \\\n",
      "0  16/06/2024                    Platja Santa Margarida de Roses   \n",
      "1  21/06/2024                     Platja de Creixell (Tarragonès   \n",
      "2  24/06/2024              Platja de la Ribera de Sitges (Garraf   \n",
      "3  25/06/2024                          Platja de la Gola del Ter   \n",
      "4  27/06/0202  Platja de Torre Valentina a Calonge i Sant Ant...   \n",
      "\n",
      "  municipi_o_comarca  sexe age nationality_or_undocumented  \\\n",
      "0        Alt Empordà  Home  65                   espanyola   \n",
      "1         Tarragonès  Home  77                   espanyola   \n",
      "2             Garraf  Home  55                 desconeguda   \n",
      "3       Baix Empordà  Home  74                   espanyola   \n",
      "4       Baix Empordà  Home  54                       russa   \n",
      "\n",
      "      baywatch_(surveillance)         flag  morts  \\\n",
      "0                          sí        Groga      1   \n",
      "1  Sense servei de vigilància           No      1   \n",
      "2           No havia començat  Desconeguda      1   \n",
      "3                          Sí        Verda      1   \n",
      "4                  Desconegut  Desconeguda      1   \n",
      "\n",
      "                                          extra_info  \n",
      "0  16/06/2024: platja Santa Margarida de Roses. H...  \n",
      "1  21/06/2024: Platja de Creixell (Tarragonès). H...  \n",
      "2  24/06/2024: platja de la Ribera de Sitges (Gar...  \n",
      "3  25/06/2024: Platja de la Gola del Ter, a Torro...  \n",
      "4  27/06/02024: platja de Torre Valentina a Calon...  \n"
     ]
    }
   ],
   "source": [
    "import pandas as pd\n",
    "\n",
    "# Load the CSV file (make sure it's in the same folder or give the correct path)\n",
    "df = pd.read_csv('drowned_all.csv')\n",
    "\n",
    "# Normalize column names for easier use\n",
    "df.columns = df.columns.str.strip().str.lower().str.replace(\" \", \"_\")\n",
    "\n",
    "# Preview the first few rows\n",
    "print(df.head())\n"
   ]
  },
  {
   "cell_type": "code",
   "execution_count": 2,
   "id": "a3de725a-4a7b-4c73-8dfc-ef482a57634e",
   "metadata": {},
   "outputs": [
    {
     "name": "stdout",
     "output_type": "stream",
     "text": [
      "Drownings by Coastguard Presence and Flag Color:\n",
      "flag                             Green  No  No consta  Red  Unknown  Yellow\n",
      "baywatch_(surveillance)                                                    \n",
      "No                                   0   0          0    0        2       0\n",
      "No consta                            0   0          1    0        0       0\n",
      "No surveillance                      0  28          0    0        5       0\n",
      "Not started                          0   0          0    0       15       0\n",
      "Servei de vigilància finalitzat      3   1          0    2        6       2\n",
      "Unknown                              4   0          0    0        8       5\n",
      "Yes                                104   0          0    1        2      34\n"
     ]
    }
   ],
   "source": [
    "# Translate and clean up values\n",
    "translations = {\n",
    "    'sí': 'Yes',\n",
    "    'no': 'No',\n",
    "    'desconegut': 'Unknown',\n",
    "    'desconeguda': 'Unknown',\n",
    "    'verda': 'Green',\n",
    "    'groga': 'Yellow',\n",
    "    'vermella': 'Red',\n",
    "    'no havia començat': 'Not started',\n",
    "    'sense servei de vigilància': 'No surveillance'\n",
    "}\n",
    "\n",
    "# Apply translations\n",
    "for col in ['baywatch_(surveillance)', 'flag']:\n",
    "    df[col] = df[col].str.strip().str.lower().replace(translations).str.capitalize()\n",
    "\n",
    "# Group by coastguard presence and flag color\n",
    "coastguard_flag = df.groupby(['baywatch_(surveillance)', 'flag']).size().unstack(fill_value=0)\n",
    "\n",
    "# Print the result\n",
    "print(\"Drownings by Coastguard Presence and Flag Color:\")\n",
    "print(coastguard_flag)\n",
    "\n"
   ]
  },
  {
   "cell_type": "code",
   "execution_count": 3,
   "id": "0fcaef03-c646-4ae4-bf48-920701b0a0b7",
   "metadata": {},
   "outputs": [],
   "source": [
    "coastguard_flag.to_csv('drownings_flagscoastguard.csv', index=False)\n"
   ]
  },
  {
   "cell_type": "code",
   "execution_count": 4,
   "id": "db01d4ee-5b71-4c13-8423-ec148315d7d8",
   "metadata": {},
   "outputs": [
    {
     "name": "stdout",
     "output_type": "stream",
     "text": [
      "Top 10 Municipalities or Comarques:\n",
      "municipi_o_comarca\n",
      "Alt Empordà     59\n",
      "Tarragonès      38\n",
      "Baix Empordà    28\n",
      "Garraf          22\n",
      "Baix Camp       18\n",
      "Baix Penedès    12\n",
      "Barcelonès       7\n",
      "Baix Ebre        6\n",
      "Maresme          6\n",
      "La Selva         5\n",
      "Name: count, dtype: int64\n"
     ]
    }
   ],
   "source": [
    "#Top Municipalities or Comarques with Most Drownings\n",
    "top_locations = df['municipi_o_comarca'].value_counts().head(10)\n",
    "print(\"Top 10 Municipalities or Comarques:\")\n",
    "print(top_locations)\n"
   ]
  },
  {
   "cell_type": "code",
   "execution_count": 5,
   "id": "ae406617-ccc0-4884-ad11-50982822982c",
   "metadata": {},
   "outputs": [],
   "source": [
    "top_locations.to_csv('drownings_toplocations.csv', index=False)\n"
   ]
  },
  {
   "cell_type": "code",
   "execution_count": 6,
   "id": "62e7e12a-53e8-4793-8660-adf1410cdcca",
   "metadata": {},
   "outputs": [
    {
     "name": "stdout",
     "output_type": "stream",
     "text": [
      "Top 10 Municipalities or Comarques (as percentages):\n",
      "municipi_o_comarca\n",
      "Alt Empordà     26.46%\n",
      "Tarragonès      17.04%\n",
      "Baix Empordà    12.56%\n",
      "Garraf           9.87%\n",
      "Baix Camp        8.07%\n",
      "Baix Penedès     5.38%\n",
      "Barcelonès       3.14%\n",
      "Baix Ebre        2.69%\n",
      "Maresme          2.69%\n",
      "La Selva         2.24%\n",
      "Name: count, dtype: object\n"
     ]
    }
   ],
   "source": [
    "# Get top 10 municipalities or comarques\n",
    "top_locations = df['municipi_o_comarca'].value_counts().head(10)\n",
    "\n",
    "# Convert to percentage\n",
    "top_locations_percentage = (top_locations / df.shape[0]) * 100\n",
    "\n",
    "# Format and print\n",
    "print(\"Top 10 Municipalities or Comarques (as percentages):\")\n",
    "print(top_locations_percentage.round(2).astype(str) + '%')\n"
   ]
  },
  {
   "cell_type": "code",
   "execution_count": 7,
   "id": "3fda478f-9e43-434d-9d7a-e4deff0e5117",
   "metadata": {},
   "outputs": [],
   "source": [
    "top_locations_percentage.to_csv('drownings_toplocations_percentage.csv', index=False)\n",
    "\n"
   ]
  },
  {
   "cell_type": "code",
   "execution_count": 8,
   "id": "66e53683-b786-4d1f-9fbf-520c5166126a",
   "metadata": {},
   "outputs": [],
   "source": [
    "#Profile of Drowned Person"
   ]
  },
  {
   "cell_type": "code",
   "execution_count": 9,
   "id": "a2996437-35e2-459b-ad14-026c9573ba7c",
   "metadata": {},
   "outputs": [
    {
     "name": "stdout",
     "output_type": "stream",
     "text": [
      "Gender Distribution:\n",
      "sexe\n",
      "Home    172\n",
      "Dona     51\n",
      "Name: count, dtype: int64\n"
     ]
    }
   ],
   "source": [
    "gender_counts = df['sexe'].value_counts()\n",
    "print(\"Gender Distribution:\")\n",
    "print(gender_counts)\n"
   ]
  },
  {
   "cell_type": "code",
   "execution_count": 10,
   "id": "e20f4dd6-3772-4d12-8e9a-26980875acbf",
   "metadata": {},
   "outputs": [
    {
     "name": "stdout",
     "output_type": "stream",
     "text": [
      "Age Statistics:\n",
      "count    222.000000\n",
      "mean      64.175676\n",
      "std       19.415223\n",
      "min        4.000000\n",
      "25%       55.000000\n",
      "50%       70.000000\n",
      "75%       78.000000\n",
      "max       92.000000\n",
      "Name: age, dtype: float64\n"
     ]
    }
   ],
   "source": [
    "df['age'] = pd.to_numeric(df['age'], errors='coerce')  # convert age to numbers\n",
    "print(\"Age Statistics:\")\n",
    "print(df['age'].describe())\n"
   ]
  },
  {
   "cell_type": "code",
   "execution_count": 11,
   "id": "cbb12086-cab4-48dc-b71b-12d8c733ddf0",
   "metadata": {},
   "outputs": [
    {
     "name": "stdout",
     "output_type": "stream",
     "text": [
      "Top 10 Nationalities:\n",
      "nationality_or_undocumented\n",
      "espanyola      107\n",
      "francesa        32\n",
      "alemanya        10\n",
      "Desconeguda      7\n",
      "marroquina       6\n",
      "belga            5\n",
      "italiana         4\n",
      "romanesa         4\n",
      "russa            3\n",
      "anglesa          2\n",
      "Name: count, dtype: int64\n"
     ]
    }
   ],
   "source": [
    "# Replace 'desconeguda' and 'Indocumentat/da' with NaN, then count\n",
    "df['nationality_or_undocumented'] = df['nationality_or_undocumented'].replace(\n",
    "    {'desconeguda': None, 'Indocumentat/da': None}\n",
    ")\n",
    "\n",
    "nationality_counts = df['nationality_or_undocumented'].dropna().value_counts().head(10)\n",
    "print(\"Top 10 Nationalities:\")\n",
    "print(nationality_counts)\n"
   ]
  },
  {
   "cell_type": "code",
   "execution_count": 12,
   "id": "ced83dc4-9e0a-459e-b5d1-a867095f0c50",
   "metadata": {},
   "outputs": [
    {
     "data": {
      "text/plain": [
       "nationality_or_undocumented\n",
       "espanyola      54.591837\n",
       "francesa       16.326531\n",
       "alemanya        5.102041\n",
       "Desconeguda     3.571429\n",
       "marroquina      3.061224\n",
       "belga           2.551020\n",
       "italiana        2.040816\n",
       "romanesa        2.040816\n",
       "russa           1.530612\n",
       "anglesa         1.020408\n",
       "Name: count, dtype: float64"
      ]
     },
     "execution_count": 12,
     "metadata": {},
     "output_type": "execute_result"
    }
   ],
   "source": [
    "total_known = df['nationality_or_undocumented'].dropna().shape[0]  # Total count excluding NaNs\n",
    "nationality_percentages = (nationality_counts / total_known) * 100  # % of total known\n",
    "nationality_percentages"
   ]
  },
  {
   "cell_type": "code",
   "execution_count": 13,
   "id": "1f3367cf-339b-4c8c-93e2-6a1e505e411b",
   "metadata": {},
   "outputs": [],
   "source": [
    "nationality_percentages.to_csv('drownings_nationality_counts.csv', index=False)\n"
   ]
  },
  {
   "cell_type": "code",
   "execution_count": null,
   "id": "8f1c2cc4-54a0-4079-b493-8868785b9819",
   "metadata": {},
   "outputs": [],
   "source": []
  }
 ],
 "metadata": {
  "kernelspec": {
   "display_name": "Python 3 (ipykernel)",
   "language": "python",
   "name": "python3"
  },
  "language_info": {
   "codemirror_mode": {
    "name": "ipython",
    "version": 3
   },
   "file_extension": ".py",
   "mimetype": "text/x-python",
   "name": "python",
   "nbconvert_exporter": "python",
   "pygments_lexer": "ipython3",
   "version": "3.11.8"
  }
 },
 "nbformat": 4,
 "nbformat_minor": 5
}
